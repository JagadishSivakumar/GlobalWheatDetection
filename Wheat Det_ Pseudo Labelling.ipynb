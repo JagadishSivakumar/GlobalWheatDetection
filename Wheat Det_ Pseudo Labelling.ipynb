{
 "metadata": {
  "language_info": {
   "codemirror_mode": {
    "name": "ipython",
    "version": 3
   },
   "file_extension": ".py",
   "mimetype": "text/x-python",
   "name": "python",
   "nbconvert_exporter": "python",
   "pygments_lexer": "ipython3",
   "version": 3
  },
  "orig_nbformat": 2
 },
 "nbformat": 4,
 "nbformat_minor": 2,
 "cells": [
  {
   "cell_type": "code",
   "execution_count": null,
   "metadata": {},
   "outputs": [],
   "source": [
    "# Nvidia Apex - Extension for using Pytorch\n",
    "# Url - https://github.com/NVIDIA/apex\n",
    "\n",
    "!cp -rp ../input/nvidiaapex/apex-master/* ./\n",
    "\n",
    "!pip install -v --no-cache-dir --global-option=\"--cpp_ext\" --global-option=\"--cuda_ext\" ./"
   ]
  },
  {
   "cell_type": "code",
   "execution_count": null,
   "metadata": {},
   "outputs": [],
   "source": [
    "\"\"\"\n",
    "timm packages\n",
    "Pytoch Image Models - with updated weights\n",
    "https://pypi.org/project/timm/\n",
    "\"\"\"\n",
    "\n",
    "\"\"\"\n",
    "Pycocotools\n",
    "\n",
    "Dependecny for Dectectron2 \n",
    "\n",
    "COCO (Common Objects in Context) - Image dataset for object segmentation, Recognition\n",
    "\n",
    "330K Images, > 200K Labels\n",
    "\n",
    "https://cocodataset.org/#home\n",
    "\"\"\""
   ]
  },
  {
   "cell_type": "code",
   "execution_count": null,
   "metadata": {},
   "outputs": [],
   "source": [
    "!pip install --no-deps '../input/timm-package/timm-0.1.26-py3-none-any.whl' > /dev/null\n",
    "!pip install --no-deps '../input/pycocotools/pycocotools-2.0-cp37-cp37m-linux_x86_64.whl' > /dev/null"
   ]
  }
 ]
}