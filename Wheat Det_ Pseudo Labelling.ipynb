{
 "metadata": {
  "language_info": {
   "codemirror_mode": {
    "name": "ipython",
    "version": 3
   },
   "file_extension": ".py",
   "mimetype": "text/x-python",
   "name": "python",
   "nbconvert_exporter": "python",
   "pygments_lexer": "ipython3",
   "version": 3
  },
  "orig_nbformat": 2
 },
 "nbformat": 4,
 "nbformat_minor": 2,
 "cells": [
  {
   "cell_type": "code",
   "execution_count": null,
   "metadata": {},
   "outputs": [],
   "source": [
    "# Nvidia Apex - Extension for using Pytorch\n",
    "# Url - https://github.com/NVIDIA/apex\n",
    "\n",
    "!cp -rp ../input/nvidiaapex/apex-master/* ./\n",
    "\n",
    "!pip install -v --no-cache-dir --global-option=\"--cpp_ext\" --global-option=\"--cuda_ext\" ./"
   ]
  },
  {
   "cell_type": "code",
   "execution_count": null,
   "metadata": {},
   "outputs": [],
   "source": [
    "\"\"\"\n",
    "timm packages\n",
    "Pytoch Image Models - with updated weights\n",
    "https://pypi.org/project/timm/\n",
    "\"\"\"\n",
    "\n",
    "\"\"\"\n",
    "Pycocotools\n",
    "\n",
    "Dependency for Dectectron2 \n",
    "\n",
    "COCO (Common Objects in Context) - Image dataset for object segmentation, Recognition\n",
    "\n",
    "330K Images, > 200K Labels\n",
    "\n",
    "https://cocodataset.org/#home\n",
    "\"\"\""
   ]
  },
  {
   "cell_type": "code",
   "execution_count": null,
   "metadata": {},
   "outputs": [],
   "source": [
    "!pip install --no-deps '../input/timm-package/timm-0.1.26-py3-none-any.whl' > /dev/null\n",
    "!pip install --no-deps '../input/pycocotools/pycocotools-2.0-cp37-cp37m-linux_x86_64.whl' > /dev/null"
   ]
  },
  {
   "cell_type": "code",
   "execution_count": null,
   "metadata": {},
   "outputs": [],
   "source": [
    "import sys\n",
    "sys.path.insert(0, \"../input/timm-efficientdet-pytorch\")\n",
    "sys.path.insert(0, \"../input/omegaconf\")\n",
    "sys.path.insert(0, \"../input/weightedboxesfusion\")"
   ]
  },
  {
   "cell_type": "code",
   "execution_count": null,
   "metadata": {},
   "outputs": [],
   "source": [
    "\"\"\"\n",
    "Ensemble Boxes\n",
    "\n",
    "https://www.kaggle.com/c/open-images-2019-object-detection/discussion/115086\n",
    "\"\"\""
   ]
  },
  {
   "cell_type": "code",
   "execution_count": null,
   "metadata": {},
   "outputs": [],
   "source": [
    "from ensemble_boxes import *\n",
    "import torch\n",
    "import numpy as np\n",
    "import pandas as pd\n",
    "from glob import glob\n",
    "import random\n",
    "from torch.utils.data import Dataset,DataLoader\n",
    "import albumentations as A\n",
    "from albumentations.pytorch.transforms import ToTensorV2\n",
    "from datetime import datetime\n",
    "import time\n",
    "import cv2\n",
    "import gc\n",
    "import os\n",
    "from matplotlib import pyplot as plt\n",
    "from effdet import get_efficientdet_config, EfficientDet, DetBenchTrain,DetBenchEval\n",
    "from torch.utils.data.sampler import SequentialSampler, RandomSampler\n",
    "from sklearn.model_selection import StratifiedKFold, train_test_split\n",
    "from effdet.efficientdet import HeadNet\n",
    "import effdet.anchors as anchors\n",
    "from timm.scheduler import CosineLRScheduler\n",
    "import math\n",
    "from copy import deepcopy\n",
    "from apex import amp\n",
    "import torch.nn as nn\n",
    "\n",
    "SEED = 1213\n",
    "\n",
    "def seed_everything(seed):\n",
    "    random.seed(seed)\n",
    "    os.environ['PYTHONHASHSEED'] = str(seed)\n",
    "    np.random.seed(seed)\n",
    "    torch.manual_seed(seed)\n",
    "    torch.cuda.manual_seed(seed)\n",
    "    torch.backends.cudnn.deterministic = True\n",
    "    torch.backends.cudnn.benchmark = True\n",
    "\n",
    "seed_everything(SEED)"
   ]
  }
 ]
}